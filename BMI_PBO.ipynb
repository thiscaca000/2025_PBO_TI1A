{
  "nbformat": 4,
  "nbformat_minor": 0,
  "metadata": {
    "colab": {
      "provenance": [],
      "authorship_tag": "ABX9TyPKC+xs5u9ZSjQ4D26L5iyV",
      "include_colab_link": true
    },
    "kernelspec": {
      "name": "python3",
      "display_name": "Python 3"
    },
    "language_info": {
      "name": "python"
    }
  },
  "cells": [
    {
      "cell_type": "markdown",
      "metadata": {
        "id": "view-in-github",
        "colab_type": "text"
      },
      "source": [
        "<a href=\"https://colab.research.google.com/github/thiscaca000/2025_PBO_TI1A/blob/main/BMI_PBO.ipynb\" target=\"_parent\"><img src=\"https://colab.research.google.com/assets/colab-badge.svg\" alt=\"Open In Colab\"/></a>"
      ]
    },
    {
      "cell_type": "code",
      "execution_count": 1,
      "metadata": {
        "colab": {
          "base_uri": "https://localhost:8080/"
        },
        "id": "EFAZUCgh1QaL",
        "outputId": "4e93edf7-fad9-4bb9-ff2e-eb6810f48cc4"
      },
      "outputs": [
        {
          "output_type": "stream",
          "name": "stdout",
          "text": [
            "Masukkan berat badan Anda (kg): 50\n",
            "Masukkan tinggi badan Anda (cm): 157\n",
            "\n",
            "BMI Anda: 20.28\n",
            "Kategori: Normal\n"
          ]
        }
      ],
      "source": [
        "def hitung_bmi(berat, tinggi):\n",
        "    \"\"\"Menghitung BMI dan mengembalikan nilai serta kategori.\"\"\"\n",
        "    bmi = berat / (tinggi ** 2)\n",
        "\n",
        "    if bmi < 18.5:\n",
        "        kategori = \"Underweight (Kekurangan Berat Badan)\"\n",
        "    elif 18.5 <= bmi < 25:\n",
        "        kategori = \"Normal\"\n",
        "    elif 25 <= bmi < 30:\n",
        "        kategori = \"Overweight (Kelebihan Berat Badan)\"\n",
        "    else:\n",
        "        kategori = \"Obesitas\"\n",
        "\n",
        "    return bmi, kategori\n",
        "\n",
        "# Input dari pengguna\n",
        "try:\n",
        "    berat = float(input(\"Masukkan berat badan Anda (kg): \"))\n",
        "    tinggi = float(input(\"Masukkan tinggi badan Anda (cm): \")) / 100  # Konversi cm ke meter\n",
        "\n",
        "    if berat > 0 and tinggi > 0:\n",
        "        bmi, kategori = hitung_bmi(berat, tinggi)\n",
        "        print(f\"\\nBMI Anda: {bmi:.2f}\")\n",
        "        print(f\"Kategori: {kategori}\")\n",
        "    else:\n",
        "        print(\"Error: Berat dan tinggi harus lebih dari 0.\")\n",
        "except ValueError:\n",
        "    print(\"Error: Harap masukkan angka yang valid.\")\n"
      ]
    }
  ]
}