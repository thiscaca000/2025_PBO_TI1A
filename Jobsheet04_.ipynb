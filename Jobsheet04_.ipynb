{
  "nbformat": 4,
  "nbformat_minor": 0,
  "metadata": {
    "colab": {
      "provenance": [],
      "authorship_tag": "ABX9TyOUUKC9IrdkUoPTwK7v4CyR",
      "include_colab_link": true
    },
    "kernelspec": {
      "name": "python3",
      "display_name": "Python 3"
    },
    "language_info": {
      "name": "python"
    }
  },
  "cells": [
    {
      "cell_type": "markdown",
      "metadata": {
        "id": "view-in-github",
        "colab_type": "text"
      },
      "source": [
        "<a href=\"https://colab.research.google.com/github/thiscaca000/2025_PBO_TI1A/blob/main/Jobsheet04_.ipynb\" target=\"_parent\"><img src=\"https://colab.research.google.com/assets/colab-badge.svg\" alt=\"Open In Colab\"/></a>"
      ]
    },
    {
      "cell_type": "markdown",
      "source": [
        "Praktikum 01: Inheritance Dasar"
      ],
      "metadata": {
        "id": "oAzm6swtOo1w"
      }
    },
    {
      "cell_type": "code",
      "execution_count": null,
      "metadata": {
        "colab": {
          "base_uri": "https://localhost:8080/"
        },
        "id": "RoKZ_FJcZeT_",
        "outputId": "3c0816a0-526a-453c-b937-cc11560c4ade"
      },
      "outputs": [
        {
          "output_type": "stream",
          "name": "stdout",
          "text": [
            "(Memanggil __init__ Person untuk 'Pak Anton')\n",
            "--------------------\n",
            "Halo, nama saya Pak Anton, usia saya 45 tahun.\n",
            "\n",
            "------------------------------\n",
            "\n",
            "(Memanggil __init__ Student untuk 'Dewi')\n",
            "(Memanggil __init__ Person untuk 'Dewi')\n",
            "(Inisialisasi atribut Student selesai untuk 'Dewi')\n",
            "--------------------\n",
            "Halo, nama saya Dewi, usia saya 20 tahun.\n",
            "Saya adalah mahasiswa dengan ID MHS001, jurusan Teknik komputer.\n",
            "--------------------\n",
            "ID Mahasiswa: MHS001\n",
            "Jurusan: Teknik komputer\n",
            "\n",
            "Usia mahasiswa (Dewi): 20\n"
          ]
        }
      ],
      "source": [
        "# Kelas Induk\n",
        "class Person:\n",
        "    def __init__(self, nama, usia):\n",
        "        print(f\"(Memanggil __init__ Person untuk '{nama}')\")\n",
        "        self.nama = nama\n",
        "        self.usia = usia\n",
        "\n",
        "    def perkenalkan_diri(self):\n",
        "        print(f\"Halo, nama saya {self.nama}, usia saya {self.usia} tahun.\")\n",
        "\n",
        "# Kelas anak (mewarisi dari Person)\n",
        "class Student(Person): # Changed 'student' to 'Student' to follow naming conventions\n",
        "    def __init__(self, nama, usia, student_id, jurusan):\n",
        "        print(f\"(Memanggil __init__ Student untuk '{nama}')\")\n",
        "        # Memanggil __init__ dari kelas Person untuk inisialisasi nama dan usia\n",
        "        super().__init__(nama, usia) # Corrected typo in super().__init__\n",
        "        # Menambahkan atribut khusus Student\n",
        "        self.student_id = student_id\n",
        "        self.jurusan = jurusan # Added jurusan as an attribute\n",
        "        print(f\"(Inisialisasi atribut Student selesai untuk '{nama}')\")\n",
        "\n",
        "    def info_akademik(self):\n",
        "        print(f\"ID Mahasiswa: {self.student_id}\")\n",
        "        print(f\"Jurusan: {self.jurusan}\")\n",
        "\n",
        "    # Override perkenalkan_diri untuk menambahkan info student\n",
        "    def perkenalkan_diri(self):\n",
        "        super().perkenalkan_diri() # Panggil versi Person\n",
        "        print(f\"Saya adalah mahasiswa dengan ID {self.student_id}, jurusan {self.jurusan}.\")\n",
        "\n",
        "# --- Kode Utama---\n",
        "if __name__ == \"__main__\":\n",
        "    # Membuat objek Person\n",
        "    dosen = Person(\"Pak Anton\", 45)\n",
        "    print(\"-\" * 20)\n",
        "    dosen.perkenalkan_diri()\n",
        "    print(\"\\n\" + \"-\" * 30 + \"\\n\") # Changed '/n' to '\\n' for newline\n",
        "\n",
        "    # Membuat objek Student\n",
        "    mahasiswa = Student(\"Dewi\", 20, \"MHS001\", \"Teknik komputer\") # Changed '+' to '=' for assignment\n",
        "    print(\"-\" * 20)\n",
        "    mahasiswa.perkenalkan_diri() # Panggil versi override di Student\n",
        "    print(\"-\" * 20)\n",
        "    mahasiswa.info_akademik() # Panggil metode khusus Student\n",
        "\n",
        "    # Cek atribut yang diwarisi\n",
        "    print(f\"\\nUsia mahasiswa ({mahasiswa.nama}): {mahasiswa.usia}\") #usia diwarisi dari Person"
      ]
    },
    {
      "cell_type": "markdown",
      "source": [
        "Praktikum 02: Menggunakan super() dalam konstruktor"
      ],
      "metadata": {
        "id": "O8td7eSrOlHU"
      }
    },
    {
      "cell_type": "code",
      "source": [
        "# Kelas Induk\n",
        "class Person:\n",
        "    def __init__(self, nama, usia):\n",
        "        print(f\"(Memanggil __init__ Person untuk '{nama}')\")\n",
        "        self.nama = nama\n",
        "        self.usia = usia\n",
        "\n",
        "    def perkenalkan_diri(self):\n",
        "        print(f\"Halo, nama saya {self.nama}, usia saya {self.usia} tahun.\")\n",
        "\n",
        "# Kelas anak (mewarisi dari Person)\n",
        "class Student(Person): # Changed 'student' to 'Student' to follow naming conventions\n",
        "    def __init__(self, nama, usia, student_id, jurusan):\n",
        "        print(f\"(Memanggil __init__ Student untuk '{nama}')\")\n",
        "        # Memanggil __init__ dari kelas Person untuk inisialisasi nama dan usia\n",
        "        super().__init__(nama, usia) # Corrected typo in super().__init__\n",
        "        # Menambahkan atribut khusus Student\n",
        "        self.student_id = student_id\n",
        "        self.jurusan = jurusan # Added jurusan as an attribute\n",
        "        print(f\"(Inisialisasi atribut Student selesai untuk '{nama}')\")\n",
        "\n",
        "    def info_akademik(self):\n",
        "        print(f\"ID Mahasiswa: {self.student_id}\")\n",
        "        print(f\"Jurusan: {self.jurusan}\")\n",
        "\n",
        "    # Override perkenalkan_diri untuk menambahkan info student\n",
        "    def perkenalkan_diri(self):\n",
        "        super().perkenalkan_diri() # Panggil versi Person\n",
        "        print(f\"Saya adalah mahasiswa dengan ID {self.student_id}, jurusan {self.jurusan}.\")\n",
        "\n",
        "# --- Kode Utama---\n",
        "if __name__ == \"__main__\":\n",
        "    # Membuat objek Person\n",
        "    dosen = Person(\"Pak Anton\", 45)\n",
        "    print(\"-\" * 20)\n",
        "    dosen.perkenalkan_diri()\n",
        "    print(\"\\n\" + \"-\" * 30 + \"\\n\") # Changed '/n' to '\\n' for newline\n",
        "\n",
        "    # Membuat objek Student\n",
        "    mahasiswa = Student(\"Dewi\", 20, \"MHS001\", \"Teknik komputer\") # Changed '+' to '=' for assignment\n",
        "    print(\"-\" * 20)\n",
        "    mahasiswa.perkenalkan_diri() # Panggil versi override di Student\n",
        "    print(\"-\" * 20)\n",
        "    mahasiswa.info_akademik() # Panggil metode khusus Student\n",
        "\n",
        "    # Cek atribut yang diwarisi\n",
        "    print(f\"\\nUsia mahasiswa ({mahasiswa.nama}): {mahasiswa.usia}\") #usia diwarisi dari Person"
      ],
      "metadata": {
        "colab": {
          "base_uri": "https://localhost:8080/"
        },
        "id": "enW80XlWdcoe",
        "outputId": "37f4f080-cc08-4fa4-eb27-69331177d6f8"
      },
      "execution_count": null,
      "outputs": [
        {
          "output_type": "stream",
          "name": "stdout",
          "text": [
            "(Memanggil __init__ Person untuk 'Pak Anton')\n",
            "--------------------\n",
            "Halo, nama saya Pak Anton, usia saya 45 tahun.\n",
            "\n",
            "------------------------------\n",
            "\n",
            "(Memanggil __init__ Student untuk 'Dewi')\n",
            "(Memanggil __init__ Person untuk 'Dewi')\n",
            "(Inisialisasi atribut Student selesai untuk 'Dewi')\n",
            "--------------------\n",
            "Halo, nama saya Dewi, usia saya 20 tahun.\n",
            "Saya adalah mahasiswa dengan ID MHS001, jurusan Teknik komputer.\n",
            "--------------------\n",
            "ID Mahasiswa: MHS001\n",
            "Jurusan: Teknik komputer\n",
            "\n",
            "Usia mahasiswa (Dewi): 20\n"
          ]
        }
      ]
    },
    {
      "cell_type": "markdown",
      "source": [
        "Praktikum 03: Method Overriding dan super()"
      ],
      "metadata": {
        "id": "crwr_gVFOeA5"
      }
    },
    {
      "cell_type": "code",
      "source": [
        "# Kelas Induk\n",
        "class Hewan:\n",
        "    def __init__(self, nama): # Added __init__ method with nama parameter\n",
        "        self.nama = nama\n",
        "\n",
        "    def bersuara(self):\n",
        "        print(f\"{self.nama} mengeluarkan suara generik.\")\n",
        "\n",
        "    def tampilkan_info(self):\n",
        "        print(f\"Ini adalah hewan bernama {self.nama}.\")\n",
        "\n",
        " # Kelas Anak\n",
        "class Kucing(Hewan):\n",
        "    def __init__(self, nama, ras):\n",
        "        super().__init__(nama) # Panggil init induk\n",
        "        self.ras = ras\n",
        "\n",
        "    # Method Overriding untuk bersuara\n",
        "    def bersuara(self):\n",
        "        print(f\"{self.nama} (Kucing) mengeong: Meow!\")\n",
        "\n",
        "    # Method Overriding untuk tampilkan_info, memanggil versi induk\n",
        "    def tampilkan_info(self):\n",
        "        super().tampilkan_info() # Panggil implementasi dari Hewan\n",
        "        print(f\"Ini adalah kucing ras {self.ras}.\")   # Tambahkan info spesifik\n",
        "\n",
        "# --- Kode Utama ---\n",
        "if __name__ == \"__main__\":\n",
        "    hewan_umum = Hewan(\"Makhluk\")\n",
        "    kucing_persia = Kucing(\"Puspus\", \"Persia\")\n",
        "\n",
        "    print(\"Info Hewan Umum:\")\n",
        "    hewan_umum.tampilkan_info()\n",
        "    hewan_umum.bersuara()\n",
        "    print(\"-\" * 20)\n",
        "\n",
        "    print(\"Info Kucing Persia\")\n",
        "    kucing_persia.tampilkan_info() # Akan memanggil versi Kucing, Corrected typo 'kucing_pwesia' to 'kucing_persia'\n",
        "    kucing_persia.bersuara() # Akan memanggil versi kucing"
      ],
      "metadata": {
        "colab": {
          "base_uri": "https://localhost:8080/"
        },
        "id": "jUJRgzsbjd3R",
        "outputId": "90f3ee83-d598-47a7-8a9e-e88175a12ac1"
      },
      "execution_count": null,
      "outputs": [
        {
          "output_type": "stream",
          "name": "stdout",
          "text": [
            "Info Hewan Umum:\n",
            "Ini adalah hewan bernama Makhluk.\n",
            "Makhluk mengeluarkan suara generik.\n",
            "--------------------\n",
            "Info Kucing Persia\n",
            "Ini adalah hewan bernama Puspus.\n",
            "Ini adalah kucing ras Persia.\n",
            "Puspus (Kucing) mengeong: Meow!\n"
          ]
        }
      ]
    },
    {
      "cell_type": "markdown",
      "source": [
        "Praktikum 04: Multi-level Inheritance (Pewarisan Bertingkat)"
      ],
      "metadata": {
        "id": "wwEgsO-RORCV"
      }
    },
    {
      "cell_type": "code",
      "source": [
        "# Kelas Induk Level 1\n",
        "class Organisme:\n",
        "    def __init__(self, nama):\n",
        "        self.nama = nama\n",
        "        print(f\"Organisme '{self.nama}' diciptakan.\")\n",
        "\n",
        "    def bernapas(self):\n",
        "        print(f\"{self.nama} sedang bernapas.\")\n",
        "\n",
        "\n",
        "# Kelas Anak Level 1 (mewarisi dari Organisme)\n",
        "class Hewan(Organisme):\n",
        "    def __init__(self, nama, jenis_makanan):\n",
        "        super().__init__(nama)  # Panggil init Organisme\n",
        "        self.jenis_makanan = jenis_makanan\n",
        "        print(f\"Hewan '{self.nama}' adalah {self.jenis_makanan}.\")\n",
        "\n",
        "    def bergerak(self):\n",
        "        print(f\"{self.nama} sedang bergerak.\")\n",
        "\n",
        "\n",
        "# Kelas Anak Level 2 (mewarisi dari Hewan)\n",
        "class Mamalia(Hewan):\n",
        "    def __init__(self, nama, jenis_makanan, jumlah_kaki):\n",
        "        super().__init__(nama, jenis_makanan)  # Panggil init Hewan\n",
        "        self.jumlah_kaki = jumlah_kaki\n",
        "        print(f\"Mamalia '{self.nama}' memiliki {self.jumlah_kaki} kaki.\")\n",
        "\n",
        "    def menyusui(self):\n",
        "        print(f\"{self.nama} sedang menyusui.\")\n",
        "\n",
        "\n",
        "# --- Kode Utama ---\n",
        "if __name__ == \"__main__\":\n",
        "    kucing = Mamalia(\"Kucing Persia\", \"Karnivora\", 4)\n",
        "    print(\"-\" * 20)\n",
        "\n",
        "    # Memanggil metode dari kelas Mamalia\n",
        "    kucing.menyusui()\n",
        "\n",
        "    # Memanggil metode yang diwarisi dari kelas Hewan\n",
        "    kucing.bergerak()\n",
        "    print(f\"Jenis makanan: {kucing.jenis_makanan}\")\n",
        "\n",
        "    # Memanggil metode yang diwarisi dari kelas Organisme\n",
        "    kucing.bernapas()\n",
        "    print(f\"Nama organisme: {kucing.nama}\")\n"
      ],
      "metadata": {
        "colab": {
          "base_uri": "https://localhost:8080/"
        },
        "id": "KjuGwEhQOGh0",
        "outputId": "c97e4528-1cf1-4f4f-b97d-290d7c85c965"
      },
      "execution_count": 5,
      "outputs": [
        {
          "output_type": "stream",
          "name": "stdout",
          "text": [
            "Organisme 'Kucing Persia' diciptakan.\n",
            "Hewan 'Kucing Persia' adalah Karnivora.\n",
            "Mamalia 'Kucing Persia' memiliki 4 kaki.\n",
            "--------------------\n",
            "Kucing Persia sedang menyusui.\n",
            "Kucing Persia sedang bergerak.\n",
            "Jenis makanan: Karnivora\n",
            "Kucing Persia sedang bernapas.\n",
            "Nama organisme: Kucing Persia\n"
          ]
        }
      ]
    },
    {
      "cell_type": "markdown",
      "source": [
        "Praktikum 05: Hierarchical Inheritance"
      ],
      "metadata": {
        "id": "gbrTx1wKNtpj"
      }
    },
    {
      "cell_type": "code",
      "source": [
        "import locale\n",
        "\n",
        "# Set locale ke Indonesia untuk format mata uang\n",
        "try:\n",
        "    locale.setlocale(locale.LC_ALL, 'id_ID.UTF-8')\n",
        "except locale.Error:\n",
        "    print(\"Locale id_ID.UTF-8 tidak tersedia, menggunakan locale default.\")\n",
        "\n",
        "# Fungsi helper untuk format mata uang\n",
        "def format_rupiah(angka):\n",
        "    return locale.currency(angka, grouping=True, symbol='Rp ')\n",
        "\n",
        "# Kelas Induk\n",
        "class Pegawai:\n",
        "    def __init__(self, nama, id_pegawai, gaji_pokok):\n",
        "        self.nama = nama\n",
        "        self.id_pegawai = id_pegawai\n",
        "        self.gaji_pokok = gaji_pokok\n",
        "\n",
        "    def hitung_gaji(self):\n",
        "        # Gaji dasar, bisa di-override\n",
        "        return self.gaji_pokok\n",
        "\n",
        "    def tampilkan_info(self):\n",
        "        print(f\"ID: {self.id_pegawai}, Nama: {self.nama}\")\n",
        "        print(f\"Gaji Pokok: {format_rupiah(self.gaji_pokok)}\")\n",
        "\n",
        "# Kelas Anak 1\n",
        "class Manager(Pegawai):\n",
        "    def __init__(self, nama, id_pegawai, gaji_pokok, tunjangan_jabatan):\n",
        "        super().__init__(nama, id_pegawai, gaji_pokok)\n",
        "        self.tunjangan_jabatan = tunjangan_jabatan\n",
        "\n",
        "    def hitung_gaji(self):\n",
        "        gaji_total = super().hitung_gaji() + self.tunjangan_jabatan\n",
        "        return gaji_total\n",
        "\n",
        "    def tampilkan_info(self):\n",
        "        print(\"--- Info Manager ---\")\n",
        "        super().tampilkan_info()\n",
        "        print(f\"Tunjangan Jabatan: {format_rupiah(self.tunjangan_jabatan)}\")\n",
        "        print(f\"Total Gaji: {format_rupiah(self.hitung_gaji())}\")\n",
        "\n",
        "# Kelas Anak 2\n",
        "class StafTeknis(Pegawai):\n",
        "    def __init__(self, nama, id_pegawai, gaji_pokok, keahlian, bonus_keahlian):\n",
        "        super().__init__(nama, id_pegawai, gaji_pokok)\n",
        "        self.keahlian = keahlian\n",
        "        self.bonus_keahlian = bonus_keahlian\n",
        "\n",
        "    def hitung_gaji(self):\n",
        "        gaji_total = super().hitung_gaji() + self.bonus_keahlian\n",
        "        return gaji_total\n",
        "\n",
        "    def tampilkan_info(self):\n",
        "        print(\"--- Info Staf Teknis ---\")\n",
        "        super().tampilkan_info()\n",
        "        print(f\"Keahlian: {self.keahlian}\")\n",
        "        print(f\"Bonus Keahlian: {format_rupiah(self.bonus_keahlian)}\")\n",
        "        print(f\"Total Gaji: {format_rupiah(self.hitung_gaji())}\")\n",
        "\n",
        "# --- Kode Utama ---\n",
        "if __name__ == \"__main__\":\n",
        "    manager1 = Manager(\"Budi Santoso\", \"M001\", 10000000, 5000000)\n",
        "    staf1 = StafTeknis(\"Citra Lestari\", \"S001\", 7000000, \"Python Programming\", 1500000)\n",
        "    pegawai_baru = Pegawai(\"Rian\", \"P005\", 5000000)\n",
        "\n",
        "    print(\"Menampilkan Informasi Pegawai:\")\n",
        "    manager1.tampilkan_info()\n",
        "    print(\"-\" * 30)\n",
        "    staf1.tampilkan_info()\n",
        "    print(\"-\" * 30)\n",
        "\n",
        "    print(\"--- Info Pegawai Baru ---\")\n",
        "    pegawai_baru.tampilkan_info()\n",
        "    print(f\"Total Gaji: {format_rupiah(pegawai_baru.hitung_gaji())}\")\n",
        "    print(\"-\" * 30)\n"
      ],
      "metadata": {
        "id": "HFvF_CJBss0J",
        "colab": {
          "base_uri": "https://localhost:8080/"
        },
        "outputId": "13d3bcd1-14ad-42b7-eccc-cde352f248e2"
      },
      "execution_count": 3,
      "outputs": [
        {
          "output_type": "stream",
          "name": "stdout",
          "text": [
            "Locale id_ID.UTF-8 tidak tersedia, menggunakan format manual.\n",
            "Menampilkan Informasi Pegawai:\n",
            "--- Info Manager ---\n",
            "ID: M001, Nama: Budi Santoso\n",
            "Gaji Pokok: Rp 10.000.000\n",
            "Tunjangan Jabatan: Rp 5.000.000\n",
            "Total Gaji: Rp 15.000.000\n",
            "------------------------------\n",
            "--- Info Staf Teknis ---\n",
            "ID: S001, Nama: Citra Lestari\n",
            "Gaji Pokok: Rp 7.000.000\n",
            "Keahlian: Python Programming\n",
            "Bonus Keahlian: Rp 1.500.000\n",
            "Total Gaji: Rp 8.500.000\n",
            "------------------------------\n",
            "--- Info Pegawai Baru ---\n",
            "ID: P005, Nama: Rian\n",
            "Gaji Pokok: Rp 5.000.000\n",
            "Total Gaji: Rp 5.000.000\n",
            "------------------------------\n"
          ]
        }
      ]
    },
    {
      "cell_type": "markdown",
      "source": [
        "Praktikum 06: Memeriksa tipe instance dengan instance()"
      ],
      "metadata": {
        "id": "lCKf23Y4NJoY"
      }
    },
    {
      "cell_type": "code",
      "source": [
        "class BentukGeometri:\n",
        "    def __init__(self, nama_bentuk):\n",
        "        self.nama = nama_bentuk\n",
        "\n",
        "    def tampilkan_nama(self):\n",
        "        print(f\"Ini adalah bentuk: {self.nama}\")\n",
        "\n",
        "    def hitung_luas(self):\n",
        "        print(f\"Luas {self.nama} tidak dapat dihitung (generik).\")\n",
        "\n",
        "\n",
        "class PersegiPanjang(BentukGeometri):\n",
        "    def __init__(self, panjang, lebar):\n",
        "        super().__init__(\"Persegi Panjang\")\n",
        "        self.panjang = panjang\n",
        "        self.lebar = lebar\n",
        "\n",
        "    def hitung_luas(self):\n",
        "        luas = self.panjang * self.lebar\n",
        "        print(f\"Luas {self.nama}: {luas}\")\n",
        "\n",
        "\n",
        "class Segitiga(BentukGeometri):\n",
        "    def __init__(self, alas, tinggi):\n",
        "        super().__init__(\"Segitiga\")\n",
        "        self.alas = alas\n",
        "        self.tinggi = tinggi\n",
        "\n",
        "    def hitung_luas(self):\n",
        "        luas = 0.5 * self.alas * self.tinggi\n",
        "        print(f\"Luas {self.nama}: {luas}\")\n",
        "\n",
        "\n",
        "def proses_bentuk(bentuk):\n",
        "    print(f\"\\nMemproses objek: {type(bentuk)}\")\n",
        "\n",
        "    if isinstance(bentuk, BentukGeometri):\n",
        "        bentuk.tampilkan_nama()\n",
        "        bentuk.hitung_luas()\n",
        "        print(\"Objek ini adalah instance dari BentukGeometri (atau turunannya).\")\n",
        "\n",
        "        if isinstance(bentuk, PersegiPanjang):\n",
        "            print(\"-> Objek ini juga instance dari PersegiPanjang.\")\n",
        "        elif isinstance(bentuk, Segitiga):\n",
        "            print(\"-> Objek ini juga instance dari Segitiga.\")\n",
        "    else:\n",
        "        print(\"Objek ini BUKAN instance dari BentukGeometri.\")\n",
        "\n",
        "    if isinstance(bentuk, str):\n",
        "        print(\"Objek ini adalah string.\")\n",
        "\n",
        "\n",
        "# --- Kode Utama ---\n",
        "if __name__ == \"__main__\":\n",
        "    pp = PersegiPanjang(4, 3)\n",
        "    seg = Segitiga(5, 2)\n",
        "    bg = BentukGeometri(\"Lingkaran\")  # Contoh bentuk generik\n",
        "    teks = \"Ini string\"\n",
        "\n",
        "    daftar_objek = [pp, seg, bg, teks]\n",
        "    for obj in daftar_objek:\n",
        "        proses_bentuk(obj)\n"
      ],
      "metadata": {
        "colab": {
          "base_uri": "https://localhost:8080/"
        },
        "id": "9oSmc7RsMcTl",
        "outputId": "2fd07d9f-5e27-4d68-cbb8-375abda90bb6"
      },
      "execution_count": 4,
      "outputs": [
        {
          "output_type": "stream",
          "name": "stdout",
          "text": [
            "\n",
            "Memproses objek: <class '__main__.PersegiPanjang'>\n",
            "Ini adalah bentuk: Persegi Panjang\n",
            "Luas Persegi Panjang: 12\n",
            "Objek ini adalah instance dari BentukGeometri (atau turunannya).\n",
            "-> Objek ini juga instance dari PersegiPanjang.\n",
            "\n",
            "Memproses objek: <class '__main__.Segitiga'>\n",
            "Ini adalah bentuk: Segitiga\n",
            "Luas Segitiga: 5.0\n",
            "Objek ini adalah instance dari BentukGeometri (atau turunannya).\n",
            "-> Objek ini juga instance dari Segitiga.\n",
            "\n",
            "Memproses objek: <class '__main__.BentukGeometri'>\n",
            "Ini adalah bentuk: Lingkaran\n",
            "Luas Lingkaran tidak dapat dihitung (generik).\n",
            "Objek ini adalah instance dari BentukGeometri (atau turunannya).\n",
            "\n",
            "Memproses objek: <class 'str'>\n",
            "Objek ini BUKAN instance dari BentukGeometri.\n",
            "Objek ini adalah string.\n"
          ]
        }
      ]
    },
    {
      "cell_type": "code",
      "source": [
        "# Kelas Induk\n",
        "class Mahasiswa:\n",
        "    def __init__(self, nama, nim, ipk):\n",
        "        self.nama = nama\n",
        "        self.nim = nim\n",
        "        self.ipk = ipk\n",
        "\n",
        "    def tampilkan_info(self):\n",
        "        print(f\"Nama: {self.nama}\")\n",
        "        print(f\"NIM: {self.nim}\")\n",
        "        print(f\"IPK: {self.ipk}\")\n",
        "\n",
        "    def hitung_predikat(self):\n",
        "        if self.ipk >= 3.5:\n",
        "            print(\"Predikat: Dengan Pujian\")\n",
        "        elif self.ipk >= 3.0:\n",
        "            print(\"Predikat: Sangat Memuaskan\")\n",
        "        elif self.ipk >= 2.5:\n",
        "            print(\"Predikat: Memuaskan\")\n",
        "        else:\n",
        "            print(\"Predikat: Cukup\")\n",
        "\n",
        "\n",
        "# Kelas Anak 1\n",
        "class MahasiswaSarjana(Mahasiswa):\n",
        "    def __init__(self, nama, nim, ipk, semester, sks_lulus):\n",
        "        super().__init__(nama, nim, ipk)\n",
        "        self.semester = semester\n",
        "        self.sks_lulus = sks_lulus\n",
        "\n",
        "    def tampilkan_info(self):\n",
        "        super().tampilkan_info()\n",
        "        print(f\"Semester: {self.semester}\")\n",
        "        print(f\"SKS Lulus: {self.sks_lulus}\")\n",
        "\n",
        "\n",
        "# Kelas Anak 2\n",
        "class MahasiswaMagister(Mahasiswa):\n",
        "    def __init__(self, nama, nim, ipk, judul_tesis, nama_pembimbing):\n",
        "        super().__init__(nama, nim, ipk)\n",
        "        self.judul_tesis = judul_tesis\n",
        "        self.nama_pembimbing = nama_pembimbing\n",
        "\n",
        "    def tampilkan_info(self):\n",
        "        super().tampilkan_info()\n",
        "        print(f\"Judul Tesis: {self.judul_tesis}\")\n",
        "        print(f\"Pembimbing: {self.nama_pembimbing}\")\n",
        "\n",
        "    # Opsional: override predikat\n",
        "    def hitung_predikat(self):\n",
        "        if self.ipk >= 3.7:\n",
        "            print(\"Predikat: Cumlaude\")\n",
        "        elif self.ipk >= 3.0:\n",
        "            print(\"Predikat: Baik Sekali\")\n",
        "        else:\n",
        "            print(\"Predikat: Baik\")\n",
        "\n",
        "\n",
        "# --- Kode Utama ---\n",
        "if __name__ == \"__main__\":\n",
        "    print(\"=== Mahasiswa Sarjana ===\")\n",
        "    sarjana = MahasiswaSarjana(\"Sekar juli\", \"21.11.1234\", 3.45, 6, 110)\n",
        "    sarjana.tampilkan_info()\n",
        "    sarjana.hitung_predikat()\n",
        "\n",
        "    print(\"\\n=== Mahasiswa Magister ===\")\n",
        "    magister = MahasiswaMagister(\"Aditya surya\", \"23.22.5678\", 3.75,\n",
        "                                  \"Sistem Cerdas dalam Pengambilan Keputusan\",\n",
        "                                  \"Dr. Rina Widya\")\n",
        "    magister.tampilkan_info()\n",
        "    magister.hitung_predikat()\n"
      ],
      "metadata": {
        "colab": {
          "base_uri": "https://localhost:8080/"
        },
        "id": "Zgz9rN0DNC3X",
        "outputId": "54291c12-e4dd-49ed-80db-675a44060f80"
      },
      "execution_count": 7,
      "outputs": [
        {
          "output_type": "stream",
          "name": "stdout",
          "text": [
            "=== Mahasiswa Sarjana ===\n",
            "Nama: Sekar juli\n",
            "NIM: 21.11.1234\n",
            "IPK: 3.45\n",
            "Semester: 6\n",
            "SKS Lulus: 110\n",
            "Predikat: Sangat Memuaskan\n",
            "\n",
            "=== Mahasiswa Magister ===\n",
            "Nama: Aditya surya\n",
            "NIM: 23.22.5678\n",
            "IPK: 3.75\n",
            "Judul Tesis: Sistem Cerdas dalam Pengambilan Keputusan\n",
            "Pembimbing: Dr. Rina Widya\n",
            "Predikat: Cumlaude\n"
          ]
        }
      ]
    },
    {
      "cell_type": "code",
      "source": [],
      "metadata": {
        "id": "I3zTk6AZPl-z"
      },
      "execution_count": null,
      "outputs": []
    }
  ]
}