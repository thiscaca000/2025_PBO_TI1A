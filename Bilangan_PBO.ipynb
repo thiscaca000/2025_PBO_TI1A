{
  "nbformat": 4,
  "nbformat_minor": 0,
  "metadata": {
    "colab": {
      "provenance": [],
      "authorship_tag": "ABX9TyM1mSZ+4yb/ILXw4G1hZhQ4",
      "include_colab_link": true
    },
    "kernelspec": {
      "name": "python3",
      "display_name": "Python 3"
    },
    "language_info": {
      "name": "python"
    }
  },
  "cells": [
    {
      "cell_type": "markdown",
      "metadata": {
        "id": "view-in-github",
        "colab_type": "text"
      },
      "source": [
        "<a href=\"https://colab.research.google.com/github/thiscaca000/2025_PBO_TI1A/blob/main/Bilangan_PBO.ipynb\" target=\"_parent\"><img src=\"https://colab.research.google.com/assets/colab-badge.svg\" alt=\"Open In Colab\"/></a>"
      ]
    },
    {
      "cell_type": "code",
      "execution_count": 4,
      "metadata": {
        "colab": {
          "base_uri": "https://localhost:8080/"
        },
        "id": "1IiPIudE2h-j",
        "outputId": "36a3d21b-0a45-4ed5-f970-8f251ad65a99"
      },
      "outputs": [
        {
          "output_type": "stream",
          "name": "stdout",
          "text": [
            "Masukkan bilangan: 9\n",
            "\n",
            "Bilangan 9 adalah Ganjil dan Bukan Bilangan Prima.\n"
          ]
        }
      ],
      "source": [
        "def cek_prima(angka):\n",
        "    \"\"\"Fungsi untuk mengecek apakah angka adalah bilangan prima.\"\"\"\n",
        "    if angka < 2:\n",
        "        return False\n",
        "    for i in range(2, int(angka ** 0.5) + 1):  # Cek pembagi dari 2 hingga akar angka\n",
        "        if angka % i == 0:\n",
        "            return False\n",
        "    return True\n",
        "\n",
        "try:\n",
        "    angka = int(input(\"Masukkan bilangan: \"))\n",
        "\n",
        "    # Mengecek Genap atau Ganjil\n",
        "    if angka % 2 == 0:\n",
        "        jenis = \"Genap\"\n",
        "    else:\n",
        "        jenis = \"Ganjil\"\n",
        "\n",
        "    # Mengecek bilangan Prima\n",
        "    if cek_prima(angka):\n",
        "        prima_status = \"Bilangan Prima\"\n",
        "    else:\n",
        "        prima_status = \"Bukan Bilangan Prima\"\n",
        "\n",
        "    print(f\"\\nBilangan {angka} adalah {jenis} dan {prima_status}.\")\n",
        "\n",
        "except ValueError:\n",
        "    print(\"Error: Harap masukkan angka yang valid!\")\n"
      ]
    }
  ]
}